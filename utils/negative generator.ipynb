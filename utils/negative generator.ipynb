{
  "cells": [
    {
      "cell_type": "code",
      "execution_count": null,
      "metadata": {
        "id": "FzOl02gilgz2"
      },
      "outputs": [],
      "source": [
        "import librosa\n",
        "import numpy as np\n",
        "from IPython.display import Audio\n",
        "import os"
      ]
    },
    {
      "cell_type": "code",
      "execution_count": null,
      "metadata": {
        "colab": {
          "background_save": true
        },
        "id": "YxEPwPH6mXkZ",
        "outputId": "3ba66af1-b2d1-411e-bf0a-060bc8a8197c"
      },
      "outputs": [],
      "source": [
        "negative_sample_path = '/home/oriol_colome_font_epidemicsound_/Master-Thesis/datasets/GTZAN/gtzan_genre/genres/jazz/jazz.00011.wav'\n",
        "y, sr = librosa.load(negative_sample_path, sr=None)\n",
        "Audio(data=y, rate=sr)"
      ]
    },
    {
      "cell_type": "code",
      "execution_count": null,
      "metadata": {
        "id": "SfPBRiMz0Bbq"
      },
      "outputs": [],
      "source": [
        "if sr == 44100:\n",
        "    JND = 220 #samples\n",
        "elif sr == 22050:\n",
        "    JND_max = 110 #samples\n",
        "else:\n",
        "    raise ValueError(\"Unsupported sample rate\")\n",
        "\n",
        "print(f\"Sample rate: {sr} Hz\")\n",
        "print(f\"JND_min: {JND} samples = {JND/sr:.3f} seconds\")\n",
        "print(f\"Maximum section: {sr} samples = {sr/sr:.3f} seconds\")"
      ]
    },
    {
      "cell_type": "code",
      "execution_count": null,
      "metadata": {
        "colab": {
          "base_uri": "https://localhost:8080/"
        },
        "id": "9_kGt3qeoXC-",
        "outputId": "b65e61dc-6a51-40de-df04-bb8d8b3bf195"
      },
      "outputs": [],
      "source": [
        "# Define the range of possible chunk lengths\n",
        "min_chunk_length = JND #\n",
        "max_chunk_length = sr\n",
        "        \n",
        "# Calculate the number of chunks\n",
        "n_chunks = np.random.randint(3, 4000)\n",
        "print(f\"Scrambling audio into {n_chunks} chunks.\")"
      ]
    },
    {
      "cell_type": "markdown",
      "metadata": {
        "id": "LbECrDo5sGd6"
      },
      "source": [
        "This code calculates the length of each chunk of a given sequence \"y\" by dividing it into \"n_chunks\" number of smaller chunks.\n",
        "\n",
        "The first line of the code calculates the total length of the sequence \"y\" and assigns it to a variable named \"total_length\".\n",
        "\n",
        "The next line initializes a variable named \"remaining_length\" with the same value as \"total_length\". This variable will keep track of the remaining length of the sequence that has not yet been chunked.\n",
        "\n",
        "The next line initializes an empty list named \"chunks\". This list will hold the starting and ending indices of each chunk.\n",
        "\n",
        "The for loop runs \"n_chunks\" number of times and calculates the length and starting and ending indices of each chunk.\n",
        "\n",
        "In the if statement inside the for loop, it checks if the current iteration is the last chunk. If it is the last chunk, it assigns the remaining length of the sequence to the chunk length. Otherwise, it randomly generates a chunk length between \"min_chunk_length\" and \"max_chunk_length\" (inclusive).\n",
        "\n",
        "The next two lines calculate the starting and ending indices of the current chunk based on its length and the remaining length of the sequence.\n",
        "\n",
        "Finally, it appends a tuple containing the starting and ending indices of the current chunk to the \"chunks\" list, and subtracts the chunk length from the \"remaining_length\" variable.\n",
        "\n",
        "Once the for loop finishes running, the \"chunks\" list contains tuples representing the starting and ending indices of each chunk, and the variable \"remaining_length\" should have a value of 0, indicating that the entire sequence has been chunked."
      ]
    },
    {
      "cell_type": "code",
      "execution_count": null,
      "metadata": {
        "colab": {
          "base_uri": "https://localhost:8080/"
        },
        "id": "zPOXld6Np4it",
        "outputId": "caa868e4-b2e7-4d75-b1d9-c8c93a3cf74a"
      },
      "outputs": [],
      "source": [
        "# Calculate the length of each chunk\n",
        "total_length = len(y)\n",
        "remaining_length = total_length\n",
        "chunks = []\n",
        "for i in range(n_chunks):\n",
        "    if i == n_chunks - 1:\n",
        "        chunk_length = remaining_length\n",
        "    else:\n",
        "        chunk_length = np.random.randint(min_chunk_length, max_chunk_length)\n",
        "    chunk_start = total_length - remaining_length\n",
        "    chunk_end = chunk_start + chunk_length\n",
        "    chunks.append((chunk_start, chunk_end))\n",
        "    remaining_length -= chunk_length\n",
        "chunks"
      ]
    },
    {
      "cell_type": "code",
      "execution_count": null,
      "metadata": {
        "colab": {
          "base_uri": "https://localhost:8080/"
        },
        "id": "C-UjWWuWtw9K",
        "outputId": "2aba4d2a-5b11-455c-befa-c0615d33da8a"
      },
      "outputs": [],
      "source": [
        "for chunk_start, chunk_end in chunks:\n",
        "    chunk_length_samples = chunk_end - chunk_start\n",
        "    chunk_length_seconds = chunk_length_samples / sr\n",
        "    print(f\"Chunk length: {chunk_length_samples} samples ({chunk_length_seconds:.2f} seconds)\")"
      ]
    },
    {
      "cell_type": "code",
      "execution_count": null,
      "metadata": {
        "id": "TdKRLVPyq-X2"
      },
      "outputs": [],
      "source": [
        "# Shuffle the list of chunks\n",
        "np.random.shuffle(chunks)"
      ]
    },
    {
      "cell_type": "code",
      "execution_count": null,
      "metadata": {
        "id": "pM8Nemr7rDhm"
      },
      "outputs": [],
      "source": [
        "# Concatenate the shuffled chunks\n",
        "scrambled_wav = np.concatenate([audio_file_data[start:end] for start, end in chunks])"
      ]
    },
    {
      "cell_type": "code",
      "execution_count": null,
      "metadata": {
        "colab": {
          "base_uri": "https://localhost:8080/"
        },
        "id": "WnCEr2AJvqJ1",
        "outputId": "fdbc2b08-9f09-4893-90b0-f0bb81e0dcc9"
      },
      "outputs": [],
      "source": [
        "len(audio_file_data) == len(scrambled_wav)"
      ]
    },
    {
      "cell_type": "code",
      "execution_count": null,
      "metadata": {
        "colab": {
          "base_uri": "https://localhost:8080/",
          "height": 75
        },
        "id": "y10Jb365qUbc",
        "outputId": "d89c7468-f8d4-496f-ede5-99093aae77c9"
      },
      "outputs": [],
      "source": [
        " # Play the scrambled audio\n",
        "Audio(scrambled_wav, rate=sr)"
      ]
    },
    {
      "cell_type": "code",
      "execution_count": null,
      "metadata": {
        "id": "meXXI3mOrLYW"
      },
      "outputs": [],
      "source": []
    }
  ],
  "metadata": {
    "colab": {
      "provenance": []
    },
    "kernelspec": {
      "display_name": "Python 3",
      "name": "python3"
    },
    "language_info": {
      "codemirror_mode": {
        "name": "ipython",
        "version": 3
      },
      "file_extension": ".py",
      "mimetype": "text/x-python",
      "name": "python",
      "nbconvert_exporter": "python",
      "pygments_lexer": "ipython3",
      "version": "3.7.12"
    }
  },
  "nbformat": 4,
  "nbformat_minor": 0
}
