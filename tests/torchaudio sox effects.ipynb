{
 "cells": [
  {
   "cell_type": "code",
   "execution_count": null,
   "metadata": {},
   "outputs": [],
   "source": [
    "import torchaudio\n",
    "import torchaudio.sox_effects as sox\n",
    "import numpy as np\n",
    "from IPython.display import Audio"
   ]
  },
  {
   "cell_type": "code",
   "execution_count": null,
   "metadata": {},
   "outputs": [],
   "source": [
    "sox.init_sox_effects()"
   ]
  },
  {
   "cell_type": "code",
   "execution_count": null,
   "metadata": {},
   "outputs": [],
   "source": [
    "sox.effect_names()"
   ]
  },
  {
   "cell_type": "code",
   "execution_count": null,
   "metadata": {},
   "outputs": [],
   "source": [
    "#Effect params\n",
    "from torchaudio.utils.sox_utils import list_effects\n",
    "list_effects()"
   ]
  },
  {
   "cell_type": "code",
   "execution_count": null,
   "metadata": {},
   "outputs": [],
   "source": [
    "waveform, sample_rate = torchaudio.load('../datasets/GTZAN/gtzan_genre/genres/disco/disco.00013.wav')\n",
    "waveform = waveform.mean(dim=0, keepdim=True)  # convert stereo to mono\n",
    "Audio(waveform, rate=sample_rate)"
   ]
  },
  {
   "cell_type": "code",
   "execution_count": null,
   "metadata": {},
   "outputs": [],
   "source": [
    "# Define the effect parameters using numpy\n",
    "gain = np.random.randint(-12, 0)\n",
    "pitch = np.random.randint(-1200, 1200)\n",
    "reverb_params = [np.random.randint(0, 100)] * 3\n",
    "chorus_params = [\n",
    "    round(np.random.uniform(0.1, 1.0), 1),\n",
    "    round(np.random.uniform(0.1, 1.0), 1),\n",
    "    55,\n",
    "    round(np.random.uniform(0.1, 0.9), 1),\n",
    "    round(np.random.uniform(0.1, 2.0), 2),\n",
    "    np.random.randint(2, 5),\n",
    "    np.random.choice([\"-s\", \"-t\"]),\n",
    "]\n",
    "drive = np.random.randint(0, 30)\n",
    "stretch = round(np.random.uniform(0.8, 1.2), 1)\n",
    "speed = np.random.uniform(0.7, 1.3)\n",
    "tremolo_speed = np.random.uniform(0.1, 100)\n",
    "tremolo_depth = np.random.randint(1, 101)\n",
    "\n",
    "# Define the effect chain using f-strings\n",
    "effects = [\n",
    "    [\"gain\", \"-n\", f\"{gain}\"],\n",
    "    [\"chorus\", *map(str, chorus_params)],\n",
    "    [\"overdrive\", f\"{drive}\"],\n",
    "    [\"pitch\", f\"{pitch}\"],\n",
    "    [\"reverb\", *[str(param) for param in reverb_params]],\n",
    "    [\"speed\", f\"{speed}\"],\n",
    "    [\"stretch\", f\"{stretch}\"],\n",
    "    [\"tremolo\", f\"{tremolo_speed}\", f\"{tremolo_depth}\"],\n",
    "]\n",
    "\n",
    "positive, _ = sox.apply_effects_tensor(waveform, sample_rate, effects)\n",
    "positive = positive.mean(dim=0, keepdim=True)  # convert stereo to mono"
   ]
  },
  {
   "cell_type": "code",
   "execution_count": null,
   "metadata": {},
   "outputs": [],
   "source": [
    "positive, sample_rate = sox.apply_effects_tensor(waveform, sample_rate, effects)\n",
    "#torchaudio.save('positive.wav', positive, sample_rate)\n",
    "Audio(waveform, rate=sample_rate)"
   ]
  },
  {
   "cell_type": "code",
   "execution_count": null,
   "metadata": {},
   "outputs": [],
   "source": []
  }
 ],
 "metadata": {
  "kernelspec": {
   "display_name": "base",
   "language": "python",
   "name": "python3"
  },
  "language_info": {
   "codemirror_mode": {
    "name": "ipython",
    "version": 3
   },
   "file_extension": ".py",
   "mimetype": "text/x-python",
   "name": "python",
   "nbconvert_exporter": "python",
   "pygments_lexer": "ipython3",
   "version": "3.9.16"
  },
  "orig_nbformat": 4
 },
 "nbformat": 4,
 "nbformat_minor": 2
}
