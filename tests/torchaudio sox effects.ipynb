{
 "cells": [
  {
   "cell_type": "code",
   "execution_count": null,
   "metadata": {},
   "outputs": [],
   "source": [
    "import torch\n",
    "import torchaudio\n",
    "import torchaudio.sox_effects as sox\n",
    "import numpy as np\n",
    "from IPython.display import Audio"
   ]
  },
  {
   "cell_type": "code",
   "execution_count": null,
   "metadata": {},
   "outputs": [],
   "source": [
    "sox.init_sox_effects()"
   ]
  },
  {
   "cell_type": "code",
   "execution_count": null,
   "metadata": {},
   "outputs": [],
   "source": [
    "sox.effect_names()"
   ]
  },
  {
   "cell_type": "code",
   "execution_count": null,
   "metadata": {},
   "outputs": [],
   "source": [
    "#Effect params\n",
    "from torchaudio.utils.sox_utils import list_effects\n",
    "list_effects()"
   ]
  },
  {
   "cell_type": "code",
   "execution_count": null,
   "metadata": {},
   "outputs": [],
   "source": [
    "waveform, sample_rate = torchaudio.load('/home/oriol_colome_font_epidemicsound_/Master-Thesis/datasets/SALAMI/audio/2/audio.mp3')\n",
    "waveform = waveform.mean(dim=0, keepdim=True)  # convert stereo to mono\n",
    "Audio(waveform, rate=sample_rate)"
   ]
  },
  {
   "cell_type": "code",
   "execution_count": null,
   "metadata": {},
   "outputs": [],
   "source": [
    "def add_noise_with_snr(waveform, snr_range):\n",
    "        # Generate white noise\n",
    "        noise = torch.normal(0, 1, waveform.shape)\n",
    "\n",
    "        # Calculate signal and noise power\n",
    "        signal_power = torch.sum(waveform ** 2)\n",
    "        noise_power = torch.sum(noise ** 2)\n",
    "\n",
    "        # Calculate the scaling factor for the noise\n",
    "        scale_factor = torch.sqrt(signal_power / (noise_power * 10**(snr_range / 10)))\n",
    "\n",
    "        # Scale the noise\n",
    "        scaled_noise = noise * scale_factor\n",
    "\n",
    "        # Add noise to the signal\n",
    "        noisy_waveform = waveform + scaled_noise\n",
    "\n",
    "        return noisy_waveform"
   ]
  },
  {
   "cell_type": "code",
   "execution_count": null,
   "metadata": {},
   "outputs": [],
   "source": [
    "# Define the effect parameters using numpy\n",
    "gain = np.random.randint(-12, 0)\n",
    "pitch = np.random.randint(-1200, 1200)\n",
    "reverb_params = [np.random.randint(0, 100)] * 3\n",
    "chorus_params = [\n",
    "    round(np.random.uniform(0.1, 1.0), 1),\n",
    "    round(np.random.uniform(0.1, 1.0), 1),\n",
    "    np.random.randint(20, 55),\n",
    "    round(np.random.uniform(0.1, 0.9), 1),\n",
    "    round(np.random.uniform(0.1, 2.0), 2),\n",
    "    np.random.randint(2, 5),\n",
    "    np.random.choice([\"-s\", \"-t\"]),\n",
    "]\n",
    "drive = np.random.randint(0, 30)\n",
    "stretch = round(np.random.uniform(0.9, 1.1), 1)\n",
    "speed = np.random.uniform(0.9, 1.1)\n",
    "tremolo_speed = np.random.uniform(0.1, 100)\n",
    "tremolo_depth = np.random.randint(1, 101)\n",
    "snr_range = np.random.randint(12, 100)\n",
    "\n",
    "# Define the effect chain using f-strings\n",
    "effects = [\n",
    "    [\"gain\", \"-n\", f\"{gain}\"],\n",
    "    [\"chorus\", *map(str, chorus_params)],\n",
    "    [\"overdrive\", f\"{drive}\"],\n",
    "    [\"pitch\", f\"{pitch}\"],\n",
    "    [\"reverb\", *[str(param) for param in reverb_params]],\n",
    "    [\"speed\", f\"{speed}\"],\n",
    "    [\"stretch\", f\"{stretch}\"],\n",
    "    [\"tremolo\", f\"{tremolo_speed}\", f\"{tremolo_depth}\"],\n",
    "]\n",
    "\n",
    "positive, _ = sox.apply_effects_tensor(waveform, sample_rate, effects)\n",
    "positive = positive.mean(dim=0, keepdim=True)  # convert stereo to mono\n",
    "\n",
    "positive_noisy = add_noise_with_snr(positive, snr_range=snr_range)"
   ]
  },
  {
   "cell_type": "code",
   "execution_count": null,
   "metadata": {},
   "outputs": [],
   "source": [
    "Audio(positive_noisy, rate=sample_rate)"
   ]
  },
  {
   "cell_type": "code",
   "execution_count": null,
   "metadata": {},
   "outputs": [],
   "source": [
    "#save the audio\n",
    "#torchaudio.save('positive_noisy_blues10.wav', positive_noisy, sample_rate)"
   ]
  },
  {
   "cell_type": "code",
   "execution_count": null,
   "metadata": {},
   "outputs": [],
   "source": [
    "def generate_negative(positive=positive_noisy, \n",
    "                      default_sample_rate: int = 44100,\n",
    "                      min_chunk_duration_sec: float = 0.05,\n",
    "                      max_chunk_duration_sec: float = 1.0):\n",
    "    # Get positive length and duration\n",
    "    positive_length = positive.shape[-1]\n",
    "    positive_duration = positive_length / default_sample_rate\n",
    "\n",
    "    # Determine the number of chunks based on minimum chunk duration\n",
    "    n_chunks = int(positive_duration // min_chunk_duration_sec)\n",
    "\n",
    "    # Calculate the minimum and maximum chunk lengths in samples\n",
    "    min_chunk_length = int(min_chunk_duration_sec * default_sample_rate)\n",
    "    max_chunk_length = int(max_chunk_duration_sec * default_sample_rate)\n",
    "\n",
    "    # Generate random chunk lengths\n",
    "    chunk_lengths = np.random.randint(min_chunk_length, max_chunk_length + 1, size=n_chunks - 1)\n",
    "    chunk_lengths = np.append(chunk_lengths, positive_length - np.sum(chunk_lengths))\n",
    "\n",
    "    # Split the positive clip into chunks\n",
    "    chunks = [positive[..., start:start + length].clone().detach() for start, length in zip(np.cumsum(np.insert(chunk_lengths, 0, 0)), chunk_lengths)]\n",
    "\n",
    "    # Shuffle the chunks\n",
    "    np.random.shuffle(chunks)\n",
    "\n",
    "    # Concatenate the shuffled chunks to create the negative example\n",
    "    #TODO crossfade?\n",
    "    negative = torch.cat(chunks, dim=-1)\n",
    "\n",
    "    # Check if the positive and negative examples have the same length\n",
    "    if positive.shape != negative.shape:\n",
    "        raise ValueError(f\"Input positive and output negative have different shapes: {positive.shape} vs {negative.shape}\")\n",
    "\n",
    "    return negative"
   ]
  },
  {
   "cell_type": "code",
   "execution_count": null,
   "metadata": {},
   "outputs": [],
   "source": [
    "negative_from_positive = generate_negative(positive)\n",
    "#TODO generate negative from anchor as well?"
   ]
  },
  {
   "cell_type": "code",
   "execution_count": null,
   "metadata": {},
   "outputs": [],
   "source": [
    " # Play the scrambled audio\n",
    "Audio(negative_from_positive, rate=sample_rate)"
   ]
  },
  {
   "cell_type": "code",
   "execution_count": null,
   "metadata": {},
   "outputs": [],
   "source": []
  }
 ],
 "metadata": {
  "kernelspec": {
   "display_name": "base",
   "language": "python",
   "name": "python3"
  },
  "language_info": {
   "codemirror_mode": {
    "name": "ipython",
    "version": 3
   },
   "file_extension": ".py",
   "mimetype": "text/x-python",
   "name": "python",
   "nbconvert_exporter": "python",
   "pygments_lexer": "ipython3",
   "version": "3.9.16"
  },
  "orig_nbformat": 4
 },
 "nbformat": 4,
 "nbformat_minor": 2
}
