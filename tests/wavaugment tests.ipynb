{
 "cells": [
  {
   "cell_type": "code",
   "execution_count": null,
   "metadata": {},
   "outputs": [],
   "source": [
    "import augment\n",
    "import torch\n",
    "import torchaudio\n",
    "import numpy as np\n",
    "from IPython.display import Audio"
   ]
  },
  {
   "cell_type": "code",
   "execution_count": null,
   "metadata": {},
   "outputs": [],
   "source": [
    "waveform, sample_rate = torchaudio.load('../datasets/GTZAN/gtzan_genre/genres/disco/disco.00017.wav')\n",
    "waveform = waveform.mean(dim=0, keepdim=True)  # convert stereo to mono\n",
    "Audio(waveform, rate=sample_rate)"
   ]
  },
  {
   "cell_type": "code",
   "execution_count": null,
   "metadata": {},
   "outputs": [],
   "source": [
    "#######################AUGMENT EFFECT CHIAN#####################################\n",
    "\n",
    "chain = augment.EffectChain()\n",
    "\n",
    "#######################AUGMENT PARAMETERS#####################################\n",
    "\n",
    "clip_min, clip_max, decimals = 0.0, 0.6, 2\n",
    "pitch_min, pitch_max = -1200, +1200 #it ruins the lyrics!!!\n",
    "reverberance, dumping_factor, room_size = (lambda: np.random.randint(0, 100),) * 3"
   ]
  },
  {
   "cell_type": "code",
   "execution_count": null,
   "metadata": {},
   "outputs": [],
   "source": [
    "###########################APPLY THEM TO AUDIO --> RETURN AUDIO DATA#################################\n",
    "\n",
    "clipped_positive = chain.clip(np.round(np.random.uniform(clip_min, clip_max), decimals)).apply(waveform, src_info={'rate': sample_rate})\n",
    "pitch_shifted_positive = chain.pitch('-q', lambda: np.random.randint(pitch_min, pitch_max)).apply(waveform, src_info={'rate': sample_rate})\n",
    "reverb_positive = chain.reverb(reverberance, dumping_factor, room_size).channels(1).apply(waveform, src_info={'rate': sample_rate})\n"
   ]
  },
  {
   "cell_type": "code",
   "execution_count": null,
   "metadata": {},
   "outputs": [],
   "source": [
    "Audio(clipped_positive, rate=sample_rate)"
   ]
  },
  {
   "cell_type": "code",
   "execution_count": null,
   "metadata": {},
   "outputs": [],
   "source": [
    "Audio(pitch_shifted_positive, rate=sample_rate)"
   ]
  },
  {
   "cell_type": "code",
   "execution_count": null,
   "metadata": {},
   "outputs": [],
   "source": [
    "Audio(reverb_positive, rate=sample_rate)"
   ]
  },
  {
   "cell_type": "code",
   "execution_count": null,
   "metadata": {},
   "outputs": [],
   "source": [
    "###########################CONCAT EFFECTS#################################\n",
    "\n",
    "combination = chain \\\n",
    "  .clip(np.round(np.random.uniform(clip_min, clip_max), decimals)) \\\n",
    "  .pitch('-q', lambda: np.random.randint(pitch_min, pitch_max)) \\\n",
    "  .reverb(reverberance, dumping_factor, room_size).channels(1) \\\n",
    "\n"
   ]
  },
  {
   "cell_type": "code",
   "execution_count": null,
   "metadata": {},
   "outputs": [],
   "source": [
    "combination_positive = combination.apply(waveform, src_info={'rate': sample_rate})"
   ]
  },
  {
   "cell_type": "code",
   "execution_count": null,
   "metadata": {},
   "outputs": [],
   "source": []
  }
 ],
 "metadata": {
  "kernelspec": {
   "display_name": "base",
   "language": "python",
   "name": "python3"
  },
  "language_info": {
   "codemirror_mode": {
    "name": "ipython",
    "version": 3
   },
   "file_extension": ".py",
   "mimetype": "text/x-python",
   "name": "python",
   "nbconvert_exporter": "python",
   "pygments_lexer": "ipython3",
   "version": "3.7.12"
  },
  "orig_nbformat": 4
 },
 "nbformat": 4,
 "nbformat_minor": 2
}
