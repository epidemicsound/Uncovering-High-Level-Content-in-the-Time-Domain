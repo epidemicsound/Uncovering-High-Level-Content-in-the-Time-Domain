{
  "cells": [
    {
      "cell_type": "code",
      "execution_count": null,
      "metadata": {
        "colab": {
          "base_uri": "https://localhost:8080/",
          "height": 75
        },
        "id": "wg662y1bU7EV",
        "outputId": "32094dd1-0033-41bd-b134-9b34cbedecf7"
      },
      "outputs": [],
      "source": [
        "import torch\n",
        "import torchaudio\n",
        "import torchaudio.functional as F\n",
        "\n",
        "print(torch.__version__)\n",
        "print(torchaudio.__version__)\n",
        "\n",
        "import os\n",
        "import random\n",
        "\n",
        "from IPython.display import Audio\n",
        "import matplotlib.pyplot as plt"
      ]
    },
    {
      "cell_type": "code",
      "execution_count": null,
      "metadata": {},
      "outputs": [],
      "source": [
        "print(os.getcwd())\n",
        "print(os.listdir(\"../../../datasets/GTZAN/gtzan_genre/genres/blues\"))"
      ]
    },
    {
      "cell_type": "code",
      "execution_count": null,
      "metadata": {},
      "outputs": [],
      "source": [
        "root = '../../../datasets/GTZAN/gtzan_genre/genres/'\n",
        "genres = [\"blues\", \"classical\", \"country\", \"disco\", \"hiphop\", \"jazz\", \"metal\", \"pop\", \"reggae\", \"rock\"]\n",
        "\n",
        "test_list = []\n",
        "for genre in genres:\n",
        "    song = random.choice(os.listdir(root + genre))\n",
        "    audio, sr = torchaudio.load(os.path.join(root, genre, song))\n",
        "    test_list.append(['test_audio_' + str(genre), audio, sr])\n",
        "\n",
        "print(test_list)"
      ]
    },
    {
      "cell_type": "code",
      "execution_count": null,
      "metadata": {},
      "outputs": [],
      "source": [
        "for audio in test_list:\n",
        "    print(audio[0])\n",
        "    Audio(audio[1], rate=audio[2])"
      ]
    },
    {
      "cell_type": "code",
      "execution_count": null,
      "metadata": {},
      "outputs": [],
      "source": [
        "def plot_waveform(waveform, sample_rate, title=\"Waveform\", xlim=None):\n",
        "    waveform = waveform.numpy()\n",
        "\n",
        "    num_channels, num_frames = waveform.shape\n",
        "    time_axis = torch.arange(0, num_frames) / sample_rate\n",
        "\n",
        "    figure, axes = plt.subplots(num_channels, 1)\n",
        "    if num_channels == 1:\n",
        "        axes = [axes]\n",
        "    for c in range(num_channels):\n",
        "        axes[c].plot(time_axis, waveform[c], linewidth=1)\n",
        "        axes[c].grid(True)\n",
        "        if num_channels > 1:\n",
        "            axes[c].set_ylabel(f\"Channel {c+1}\")\n",
        "        if xlim:\n",
        "            axes[c].set_xlim(xlim)\n",
        "    figure.suptitle(title)\n",
        "    plt.show(block=False)"
      ]
    },
    {
      "cell_type": "code",
      "execution_count": null,
      "metadata": {},
      "outputs": [],
      "source": [
        "def play_audio(waveform, sample_rate):\n",
        "  waveform = waveform.numpy()\n",
        "\n",
        "  num_channels, num_frames = waveform.shape\n",
        "  if num_channels == 1:\n",
        "    display(Audio(waveform[0], rate=sample_rate))\n",
        "  elif num_channels == 2:\n",
        "    display(Audio((waveform[0], waveform[1]), rate=sample_rate))\n",
        "  else:\n",
        "    raise ValueError(\"Waveform with more than 2 channels are not supported.\")"
      ]
    },
    {
      "cell_type": "code",
      "execution_count": null,
      "metadata": {},
      "outputs": [],
      "source": [
        "for i in range(len(test_list)):\n",
        "    plot_waveform(test_list[i][1], test_list[i][2], title=str(test_list[i][0]), xlim=None)\n",
        "    play_audio(test_list[i][1], test_list[i][2])"
      ]
    },
    {
      "cell_type": "code",
      "execution_count": null,
      "metadata": {},
      "outputs": [],
      "source": []
    },
    {
      "cell_type": "code",
      "execution_count": null,
      "metadata": {
        "id": "fJXS8VgHU9MR"
      },
      "outputs": [],
      "source": [
        "import audio_augmentations"
      ]
    },
    {
      "cell_type": "code",
      "execution_count": null,
      "metadata": {
        "id": "J5LfAaFkUnK3"
      },
      "outputs": [],
      "source": [
        "\n",
        "transforms = [\n",
        "    RandomApply([PolarityInversion()], p=0.8),\n",
        "    RandomApply([Noise(min_snr=0.001, max_snr=0.005)], p=0.3),\n",
        "    RandomApply([Gain()], p=0.2),\n",
        "    HighLowPass(sample_rate=sr), # this augmentation will always be applied in this aumgentation chain!\n",
        "    RandomApply([Delay(sample_rate=sr)], p=0.5),\n",
        "    RandomApply([PitchShift()], p=0.4),\n",
        "    RandomApply([Reverb(sample_rate=sr)], p=0.3)\n",
        "]"
      ]
    },
    {
      "cell_type": "code",
      "execution_count": null,
      "metadata": {
        "colab": {
          "base_uri": "https://localhost:8080/",
          "height": 75
        },
        "id": "MfiipNB5XlaJ",
        "outputId": "c3f3fc9e-a5ff-44f9-fc7a-cc50068ec883"
      },
      "outputs": [],
      "source": [
        "transform = Compose(transforms=transforms)\n",
        "transformed_audio =  transform(audio)\n",
        "Audio(transformed_audio, rate=sr)"
      ]
    },
    {
      "cell_type": "code",
      "execution_count": null,
      "metadata": {
        "id": "bBtuYXZ6VjwP"
      },
      "outputs": [],
      "source": [
        "transforms = [\n",
        "    RandomResizedCrop(n_samples=num_samples),\n",
        "    RandomApply([PolarityInversion(), Noise(min_snr=0.001, max_snr=0.005)], p=0.8),\n",
        "    RandomApply([Gain()], p=0.2),\n",
        "    RandomApply([Delay(sample_rate=sr), Reverb(sample_rate=sr)], p=0.5)\n",
        "]"
      ]
    },
    {
      "cell_type": "code",
      "execution_count": null,
      "metadata": {
        "colab": {
          "base_uri": "https://localhost:8080/",
          "height": 75
        },
        "id": "n0sjOLZCWEjT",
        "outputId": "10c5225e-d790-4be4-e566-b0d4d32e644f"
      },
      "outputs": [],
      "source": [
        "transform = Compose(transforms=transforms)\n",
        "transformed_audio =  transform(audio)\n",
        "ipd.Audio(transformed_audio, rate=sr)"
      ]
    },
    {
      "cell_type": "code",
      "execution_count": null,
      "metadata": {
        "colab": {
          "base_uri": "https://localhost:8080/"
        },
        "id": "Bod4WzcJWKak",
        "outputId": "70f99534-b49d-4f34-ea10-affe8e15ff06"
      },
      "outputs": [],
      "source": [
        "transform = ComposeMany(transforms=transforms, num_augmented_samples=4)\n",
        "transformed_audio_many = transform(audio)\n",
        "transformed_audio == transformed_audio_many\n",
        "#transformed_audio.shape = [4, num_channels, num_samples]"
      ]
    },
    {
      "cell_type": "code",
      "execution_count": null,
      "metadata": {
        "id": "RhVxAsEYWzhr"
      },
      "outputs": [],
      "source": []
    }
  ],
  "metadata": {
    "colab": {
      "provenance": []
    },
    "kernelspec": {
      "display_name": "Python 3",
      "name": "python3"
    },
    "language_info": {
      "codemirror_mode": {
        "name": "ipython",
        "version": 3
      },
      "file_extension": ".py",
      "mimetype": "text/x-python",
      "name": "python",
      "nbconvert_exporter": "python",
      "pygments_lexer": "ipython3",
      "version": "3.7.12"
    }
  },
  "nbformat": 4,
  "nbformat_minor": 0
}
