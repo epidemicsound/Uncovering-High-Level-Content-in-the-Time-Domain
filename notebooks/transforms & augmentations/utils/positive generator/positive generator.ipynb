{
 "cells": [
  {
   "cell_type": "code",
   "execution_count": null,
   "metadata": {},
   "outputs": [],
   "source": [
    "import librosa\n",
    "import numpy as np\n",
    "from IPython.display import Audio\n",
    "import os"
   ]
  },
  {
   "cell_type": "code",
   "execution_count": null,
   "metadata": {},
   "outputs": [],
   "source": [
    "positive_sample_path = '/mnt/disks/msd/audio/A/A/A/TRAAAAW128F429D538.mp3'\n",
    "y, sr = librosa.load(positive_sample_path, sr=None)\n",
    "Audio(data=y, rate=sr)"
   ]
  },
  {
   "cell_type": "code",
   "execution_count": null,
   "metadata": {},
   "outputs": [],
   "source": [
    "audio_file_data = y[44100*5:44100*15]\n",
    "Audio(audio_file_data, rate=sr)"
   ]
  },
  {
   "cell_type": "code",
   "execution_count": null,
   "metadata": {},
   "outputs": [],
   "source": [
    "#alisaing\n",
    "\n",
    "# Define the time shift (in samples)\n",
    "shift = 5000\n",
    "\n",
    "# Shift different parts of the signal in time\n",
    "scrambled_signal = np.concatenate((audio_file_data[shift:], audio_file_data[:shift]))\n",
    "\n",
    "# Play and display the scrambled signal\n",
    "Audio(scrambled_signal, rate=sr)"
   ]
  },
  {
   "cell_type": "code",
   "execution_count": null,
   "metadata": {},
   "outputs": [],
   "source": [
    "# Define the noise level (in dB)\n",
    "noise_level = -20\n",
    "\n",
    "# Generate noise with the same length as the signal\n",
    "noise = np.random.normal(scale=np.sqrt(10**(noise_level/10)), size=len(audio_file_data))\n",
    "\n",
    "# Add the noise to the signal\n",
    "scrambled_signal = audio_file_data + noise\n",
    "\n",
    "# Compute the SNR\n",
    "signal_power = np.sum(audio_file_data**2) / len(audio_file_data)\n",
    "noise_power = np.sum(noise**2) / len(noise)\n",
    "snr = 10 * np.log10(signal_power / noise_power)\n",
    "\n",
    "print(\"SNR:\", snr)\n",
    "\n",
    "# Check if SNR is greater than threshold n\n",
    "n = 20  # set threshold\n",
    "if snr > n:\n",
    "    raise ValueError(\"Signal is not musically perceivable due to high noise level.\")\n",
    "else:\n",
    "  pass\n",
    "\n",
    "# Play and display the scrambled signal\n",
    "Audio(scrambled_signal, rate=sr)"
   ]
  },
  {
   "cell_type": "code",
   "execution_count": null,
   "metadata": {},
   "outputs": [],
   "source": [
    "from audio_augmentations import *\n",
    "\n",
    "audio, sr = torchaudio.load(\"tests/classical.00002.wav\")\n",
    "\n",
    "num_samples = sr * 5\n",
    "transforms = [\n",
    "    RandomResizedCrop(n_samples=num_samples),\n",
    "    RandomApply([PolarityInversion()], p=0.8),\n",
    "    RandomApply([Noise(min_snr=0.001, max_snr=0.005)], p=0.3),\n",
    "    RandomApply([Gain()], p=0.2),\n",
    "    HighLowPass(sample_rate=sr), # this augmentation will always be applied in this aumgentation chain!\n",
    "    RandomApply([Delay(sample_rate=sr)], p=0.5),\n",
    "    RandomApply([PitchShift(\n",
    "        n_samples=num_samples,\n",
    "        sample_rate=sr\n",
    "    )], p=0.4),\n",
    "    RandomApply([Reverb(sample_rate=sr)], p=0.3)\n",
    "]"
   ]
  }
 ],
 "metadata": {
  "kernelspec": {
   "display_name": "base",
   "language": "python",
   "name": "python3"
  },
  "language_info": {
   "codemirror_mode": {
    "name": "ipython",
    "version": 3
   },
   "file_extension": ".py",
   "mimetype": "text/x-python",
   "name": "python",
   "nbconvert_exporter": "python",
   "pygments_lexer": "ipython3",
   "version": "3.7.12"
  },
  "orig_nbformat": 4
 },
 "nbformat": 4,
 "nbformat_minor": 2
}
