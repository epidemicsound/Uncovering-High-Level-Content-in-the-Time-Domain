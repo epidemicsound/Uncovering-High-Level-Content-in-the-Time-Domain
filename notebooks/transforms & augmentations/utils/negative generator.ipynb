{
  "cells": [
    {
      "cell_type": "code",
      "execution_count": null,
      "metadata": {
        "id": "FzOl02gilgz2"
      },
      "outputs": [],
      "source": [
        "import torch\n",
        "import librosa\n",
        "import numpy as np\n",
        "from IPython.display import Audio"
      ]
    },
    {
      "cell_type": "code",
      "execution_count": null,
      "metadata": {
        "colab": {
          "background_save": true
        },
        "id": "YxEPwPH6mXkZ",
        "outputId": "3ba66af1-b2d1-411e-bf0a-060bc8a8197c"
      },
      "outputs": [],
      "source": [
        "negative_sample_path = '/home/oriol_colome_font_epidemicsound_/Master-Thesis/datasets/GTZAN/gtzan_genre/genres/classical/classical.00095.wav'\n",
        "positive, sr = librosa.load(negative_sample_path, sr=None)\n",
        "Audio(data=positive, rate=sr)"
      ]
    },
    {
      "cell_type": "code",
      "execution_count": null,
      "metadata": {},
      "outputs": [],
      "source": [
        "def generate_negative(positive, \n",
        "                      default_sample_rate: int = 44100,\n",
        "                      min_chunk_duration_sec: float = 0.05,\n",
        "                      max_chunk_duration_sec: float = 1.0):\n",
        "        # Get positive length and duration\n",
        "        positive_length = positive.shape[-1]\n",
        "        positive_duration = positive_length / default_sample_rate\n",
        "\n",
        "        # Determine the number of chunks based on minimum chunk duration\n",
        "        n_chunks = int(positive_duration // min_chunk_duration_sec)\n",
        "\n",
        "        # Calculate the minimum and maximum chunk lengths in samples\n",
        "        min_chunk_length = int(min_chunk_duration_sec * default_sample_rate)\n",
        "        max_chunk_length = int(max_chunk_duration_sec * default_sample_rate)\n",
        "\n",
        "        # Generate random chunk lengths\n",
        "        chunk_lengths = np.random.randint(min_chunk_length, max_chunk_length + 1, size=n_chunks - 1)\n",
        "        chunk_lengths = np.append(chunk_lengths, positive_length - np.sum(chunk_lengths))\n",
        "\n",
        "        # Split the positive clip into chunks and convert them to PyTorch tensors\n",
        "        chunks = [torch.tensor(positive[..., start:start + length], dtype=torch.float32) for start, length in zip(np.cumsum(np.insert(chunk_lengths, 0, 0)), chunk_lengths)]\n",
        "\n",
        "        # Shuffle the chunks\n",
        "        np.random.shuffle(chunks)\n",
        "\n",
        "        # Concatenate the shuffled chunks to create the negative example\n",
        "        negative = torch.cat(chunks, dim=-1)\n",
        "\n",
        "        # Check if the positive and negative examples have the same length\n",
        "        if positive.shape != negative.shape:\n",
        "            raise ValueError(f\"Input positive and output negative have different shapes: {positive.shape} vs {negative.shape}\")\n",
        "\n",
        "        return negative"
      ]
    },
    {
      "cell_type": "code",
      "execution_count": null,
      "metadata": {},
      "outputs": [],
      "source": [
        "negative = generate_negative(positive)"
      ]
    },
    {
      "cell_type": "code",
      "execution_count": null,
      "metadata": {
        "colab": {
          "base_uri": "https://localhost:8080/",
          "height": 75
        },
        "id": "y10Jb365qUbc",
        "outputId": "d89c7468-f8d4-496f-ede5-99093aae77c9"
      },
      "outputs": [],
      "source": [
        " # Play the scrambled audio\n",
        "Audio(negative, rate=sr)"
      ]
    },
    {
      "cell_type": "code",
      "execution_count": null,
      "metadata": {
        "id": "meXXI3mOrLYW"
      },
      "outputs": [],
      "source": []
    }
  ],
  "metadata": {
    "colab": {
      "provenance": []
    },
    "kernelspec": {
      "display_name": "Python 3",
      "name": "python3"
    },
    "language_info": {
      "codemirror_mode": {
        "name": "ipython",
        "version": 3
      },
      "file_extension": ".py",
      "mimetype": "text/x-python",
      "name": "python",
      "nbconvert_exporter": "python",
      "pygments_lexer": "ipython3",
      "version": "3.9.16"
    }
  },
  "nbformat": 4,
  "nbformat_minor": 0
}
